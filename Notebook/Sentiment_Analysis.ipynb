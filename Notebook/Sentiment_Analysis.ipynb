{
  "nbformat": 4,
  "nbformat_minor": 0,
  "metadata": {
    "colab": {
      "name": "Sentiment_Analysis.ipynb",
      "provenance": []
    },
    "kernelspec": {
      "display_name": "Python 3",
      "name": "python3"
    }
  },
  "cells": [
    {
      "cell_type": "markdown",
      "metadata": {
        "id": "FOPyv_6G3Kbr"
      },
      "source": [
        "## Download the Dataset and Glove Embeddings"
      ]
    },
    {
      "cell_type": "code",
      "metadata": {
        "id": "SX1Lz6KGAUwO"
      },
      "source": [
        "!wget http://saifmohammad.com/WebDocs/EmoInt%20Train%20Data/sadness-ratings-0to1.train.txt\r\n",
        "!wget http://saifmohammad.com/WebDocs/EmoInt%20Train%20Data/anger-ratings-0to1.train.txt\r\n",
        "!wget http://saifmohammad.com/WebDocs/EmoInt%20Train%20Data/fear-ratings-0to1.train.txt\r\n",
        "!wget http://saifmohammad.com/WebDocs/EmoInt%20Train%20Data/joy-ratings-0to1.train.txt"
      ],
      "execution_count": null,
      "outputs": []
    },
    {
      "cell_type": "code",
      "metadata": {
        "id": "4GDfFpxZLG9n"
      },
      "source": [
        "!wget http://nlp.stanford.edu/data/glove.6B.zip\r\n",
        "!unzip /content/glove.6B.zip"
      ],
      "execution_count": null,
      "outputs": []
    },
    {
      "cell_type": "markdown",
      "metadata": {
        "id": "e7DFYUaE6R_4"
      },
      "source": [
        "## Import Libraries"
      ]
    },
    {
      "cell_type": "code",
      "metadata": {
        "id": "GqL-4XAFy0f9"
      },
      "source": [
        "import numpy as np\r\n",
        "import pandas as pd\r\n",
        "import matplotlib.pyplot as plt\r\n",
        "from sklearn.model_selection import train_test_split\r\n",
        "\r\n",
        "import tensorflow as tf\r\n",
        "from tensorflow.keras.layers.experimental.preprocessing import TextVectorization"
      ],
      "execution_count": 3,
      "outputs": []
    },
    {
      "cell_type": "markdown",
      "metadata": {
        "id": "B4JEm1I34Ega"
      },
      "source": [
        "## Load and Prepocess the Dataset"
      ]
    },
    {
      "cell_type": "code",
      "metadata": {
        "id": "X8YuoTgwZHGD"
      },
      "source": [
        "Joy = open(\"/content/joy-ratings-0to1.train.txt\", \"r+\")\r\n",
        "Joy = Joy.read()\r\n",
        "\r\n",
        "Fear = open(\"/content/fear-ratings-0to1.train.txt\", \"r+\")\r\n",
        "Fear = Fear.read()\r\n",
        "\r\n",
        "Anger = open(\"/content/anger-ratings-0to1.train.txt\", \"r+\")\r\n",
        "Anger = Anger.read()\r\n",
        "\r\n",
        "Sadness = open(\"/content/sadness-ratings-0to1.train.txt\", \"r+\")\r\n",
        "Sadness = Sadness.read()"
      ],
      "execution_count": 4,
      "outputs": []
    },
    {
      "cell_type": "code",
      "metadata": {
        "id": "uy3WUomQcFj-"
      },
      "source": [
        "def preprocessing(File):\r\n",
        "  X = []\r\n",
        "  Y = []\r\n",
        "  List = list(File.split(\"\\n\"))\r\n",
        "  for i in range(len(List)):\r\n",
        "    try:\r\n",
        "      List[i] = list(List[i].split(\"\\t\"))\r\n",
        "      if float(List[i][3]) >= 0.4:\r\n",
        "        X.append(List[i][1])\r\n",
        "        if List[i][2] == 'joy':\r\n",
        "          Y.append(0)\r\n",
        "        elif List[i][2] == 'fear':\r\n",
        "          Y.append(1)\r\n",
        "        elif List[i][2] == 'anger':\r\n",
        "          Y.append(2)\r\n",
        "        elif List[i][2] == 'sadness':\r\n",
        "          Y.append(3)\r\n",
        "      elif float(List[i][3]) >= 0.2:\r\n",
        "        X.append(List[i][1])\r\n",
        "        Y.append(4)\r\n",
        "    except:\r\n",
        "      pass\r\n",
        "  \r\n",
        "  return X, Y"
      ],
      "execution_count": 5,
      "outputs": []
    },
    {
      "cell_type": "code",
      "metadata": {
        "id": "et-BsU3s03Gn"
      },
      "source": [
        "class_names = {0: 'joy', 1: 'fear', 2: 'anger', 3: 'sadness', 4: 'neutral'}"
      ],
      "execution_count": 6,
      "outputs": []
    },
    {
      "cell_type": "code",
      "metadata": {
        "id": "ZIMB1ovXdQsb"
      },
      "source": [
        "X_Joy, Y_Joy = preprocessing(Joy)\r\n",
        "X_Fear, Y_Fear = preprocessing(Fear)\r\n",
        "X_Anger, Y_Anger = preprocessing(Anger)\r\n",
        "X_Sadness, Y_Sadness = preprocessing(Sadness)"
      ],
      "execution_count": 7,
      "outputs": []
    },
    {
      "cell_type": "code",
      "metadata": {
        "id": "PKcf7nYseAf2"
      },
      "source": [
        "X = []\r\n",
        "Y = []\r\n",
        "\r\n",
        "X = X_Joy + X_Fear + X_Anger + X_Sadness\r\n",
        "Y = Y_Joy + Y_Fear + Y_Anger + Y_Sadness"
      ],
      "execution_count": 8,
      "outputs": []
    },
    {
      "cell_type": "code",
      "metadata": {
        "id": "OThyf9SdEtn8"
      },
      "source": [
        "embeddings = open(\"/content/glove.6B.200d.txt\")"
      ],
      "execution_count": 9,
      "outputs": []
    },
    {
      "cell_type": "code",
      "metadata": {
        "id": "V_oU0sw1N-n2"
      },
      "source": [
        "embeddings_index = {}\r\n",
        "for line in embeddings:\r\n",
        "  word, coefs = line.split(maxsplit = 1)\r\n",
        "  coefs = np.fromstring(coefs, \"f\", sep = \" \")\r\n",
        "  embeddings_index[word] = coefs"
      ],
      "execution_count": 10,
      "outputs": []
    },
    {
      "cell_type": "code",
      "metadata": {
        "id": "u-1a04ywPndB"
      },
      "source": [
        "MAX_LENGTH = 200\r\n",
        "vectorizer = TextVectorization(max_tokens = 20000, output_sequence_length = MAX_LENGTH)\r\n",
        "vectorizer.adapt(X)"
      ],
      "execution_count": 11,
      "outputs": []
    },
    {
      "cell_type": "code",
      "metadata": {
        "id": "1T6yBODZSjkQ"
      },
      "source": [
        "vocablary = vectorizer.get_vocabulary()\r\n",
        "word_index = dict(zip(vocablary, range(len(vocablary))))"
      ],
      "execution_count": 12,
      "outputs": []
    },
    {
      "cell_type": "markdown",
      "metadata": {
        "id": "W5J26Y5C5m3U"
      },
      "source": [
        "Build Weight Matrix"
      ]
    },
    {
      "cell_type": "code",
      "metadata": {
        "colab": {
          "base_uri": "https://localhost:8080/"
        },
        "id": "1pnaHLjCUjDy",
        "outputId": "4c1b1733-ff6b-4024-9edc-cd1909cdc227"
      },
      "source": [
        "num_tokens = len(vocablary) + 2\r\n",
        "EMBEDDING_DIM = 200\r\n",
        "hits = 0\r\n",
        "misses = 0\r\n",
        "\r\n",
        "weight_matrix = np.zeros((num_tokens, EMBEDDING_DIM))\r\n",
        "for word, i in word_index.items():\r\n",
        "    embedding_vector = embeddings_index.get(word)\r\n",
        "    if embedding_vector is not None:\r\n",
        "        weight_matrix[i] = embedding_vector\r\n",
        "        hits += 1\r\n",
        "    else:\r\n",
        "        misses += 1\r\n",
        "print(\"Converted %d words (%d misses)\" % (hits, misses))"
      ],
      "execution_count": 13,
      "outputs": [
        {
          "output_type": "stream",
          "text": [
            "Converted 6962 words (3422 misses)\n"
          ],
          "name": "stdout"
        }
      ]
    },
    {
      "cell_type": "code",
      "metadata": {
        "id": "r4j3VWcUaE2_"
      },
      "source": [
        "X = vectorizer(np.array([[s] for s in X])).numpy()\r\n",
        "Y = np.array(Y)"
      ],
      "execution_count": 14,
      "outputs": []
    },
    {
      "cell_type": "code",
      "metadata": {
        "id": "PMm50HLvslPK"
      },
      "source": [
        "X_train, X_test, Y_train, Y_test = train_test_split(X, Y, test_size = 0.2)"
      ],
      "execution_count": 15,
      "outputs": []
    },
    {
      "cell_type": "markdown",
      "metadata": {
        "id": "C5Rb5M334YAl"
      },
      "source": [
        "## Build the Model using Subclassing API of TensorFlow"
      ]
    },
    {
      "cell_type": "code",
      "metadata": {
        "id": "D0LNWnhADppa"
      },
      "source": [
        "class Model(tf.keras.Model):\r\n",
        "  \r\n",
        "  def __init__(self, weight_matrix, EMBEDDING_DIM, MAX_LENGTH):\r\n",
        "    super(Model, self).__init__()\r\n",
        "    self.Embedding = tf.keras.layers.Embedding(input_dim = len(weight_matrix),\r\n",
        "                                               output_dim = EMBEDDING_DIM,\r\n",
        "                                               embeddings_initializer = tf.keras.initializers.Constant(weight_matrix),\r\n",
        "                                               trainable = False,\r\n",
        "                                               input_length = MAX_LENGTH)\r\n",
        "    self.Bidirectional = tf.keras.layers.Bidirectional(tf.keras.layers.LSTM(128, dropout = 0.2, recurrent_dropout = 0.2))\r\n",
        "    self.Dense = tf.keras.layers.Dense(512, activation = 'relu')\r\n",
        "    self.Dropout = tf.keras.layers.Dropout(0.5)\r\n",
        "    self.Output = tf.keras.layers.Dense(5, activation = 'softmax')\r\n",
        "  \r\n",
        "  def call(self, inputs):\r\n",
        "    x = self.Embedding(inputs)\r\n",
        "    x = self.Bidirectional(x)\r\n",
        "    x = self.Dense(x)\r\n",
        "    x = self.Dropout(x)\r\n",
        "    x = self.Output(x)\r\n",
        "    return x"
      ],
      "execution_count": 16,
      "outputs": []
    },
    {
      "cell_type": "code",
      "metadata": {
        "id": "XwOlaNFJWHLC"
      },
      "source": [
        "model = Model(weight_matrix, EMBEDDING_DIM, MAX_LENGTH)"
      ],
      "execution_count": 17,
      "outputs": []
    },
    {
      "cell_type": "code",
      "metadata": {
        "id": "btB8nBwzYkWJ"
      },
      "source": [
        "model.compile(optimizer = 'adam', loss = tf.keras.losses.SparseCategoricalCrossentropy(), metrics = ['accuracy'])"
      ],
      "execution_count": 18,
      "outputs": []
    },
    {
      "cell_type": "code",
      "metadata": {
        "colab": {
          "base_uri": "https://localhost:8080/"
        },
        "id": "p_J-qWyrZze7",
        "outputId": "e0d5c320-5118-4d1f-b62d-17a7afe6e467"
      },
      "source": [
        "history = model.fit(X_train, Y_train, epochs = 10, validation_data = (X_test, Y_test), batch_size = 32)"
      ],
      "execution_count": 19,
      "outputs": [
        {
          "output_type": "stream",
          "text": [
            "Epoch 1/10\n",
            "86/86 [==============================] - 105s 1s/step - loss: 1.5472 - accuracy: 0.3050 - val_loss: 1.3282 - val_accuracy: 0.4217\n",
            "Epoch 2/10\n",
            "86/86 [==============================] - 101s 1s/step - loss: 1.2521 - accuracy: 0.4631 - val_loss: 1.2490 - val_accuracy: 0.4729\n",
            "Epoch 3/10\n",
            "86/86 [==============================] - 95s 1s/step - loss: 1.1026 - accuracy: 0.5464 - val_loss: 1.0529 - val_accuracy: 0.5842\n",
            "Epoch 4/10\n",
            "86/86 [==============================] - 95s 1s/step - loss: 0.9473 - accuracy: 0.6154 - val_loss: 1.0031 - val_accuracy: 0.5900\n",
            "Epoch 5/10\n",
            "86/86 [==============================] - 96s 1s/step - loss: 0.7860 - accuracy: 0.6903 - val_loss: 0.9672 - val_accuracy: 0.6164\n",
            "Epoch 6/10\n",
            "86/86 [==============================] - 94s 1s/step - loss: 0.6980 - accuracy: 0.7323 - val_loss: 0.9578 - val_accuracy: 0.6237\n",
            "Epoch 7/10\n",
            "86/86 [==============================] - 95s 1s/step - loss: 0.6499 - accuracy: 0.7409 - val_loss: 0.9831 - val_accuracy: 0.6252\n",
            "Epoch 8/10\n",
            "86/86 [==============================] - 95s 1s/step - loss: 0.5846 - accuracy: 0.7766 - val_loss: 1.0090 - val_accuracy: 0.6369\n",
            "Epoch 9/10\n",
            "86/86 [==============================] - 95s 1s/step - loss: 0.4988 - accuracy: 0.8098 - val_loss: 1.0110 - val_accuracy: 0.6428\n",
            "Epoch 10/10\n",
            "86/86 [==============================] - 94s 1s/step - loss: 0.4528 - accuracy: 0.8195 - val_loss: 1.1210 - val_accuracy: 0.6457\n"
          ],
          "name": "stdout"
        }
      ]
    },
    {
      "cell_type": "markdown",
      "metadata": {
        "id": "eimayFzP4xVt"
      },
      "source": [
        "## Create a plot of accuracy and loss over time"
      ]
    },
    {
      "cell_type": "code",
      "metadata": {
        "id": "ypo6192Lxmar"
      },
      "source": [
        "history_dict = history.history\r\n",
        "\r\n",
        "loss = history_dict[\"loss\"]\r\n",
        "accuracy = history_dict[\"accuracy\"]\r\n",
        "val_loss = history_dict[\"val_loss\"]\r\n",
        "val_accuracy = history_dict[\"val_accuracy\"]\r\n",
        "\r\n",
        "epochs = range(1, len(loss) + 1)"
      ],
      "execution_count": 20,
      "outputs": []
    },
    {
      "cell_type": "code",
      "metadata": {
        "colab": {
          "base_uri": "https://localhost:8080/",
          "height": 334
        },
        "id": "dnnFRWY_x7f6",
        "outputId": "ce31455c-6429-49bf-9e46-2c3e8930d349"
      },
      "source": [
        "plt.figure(figsize = (20, 5))\r\n",
        "plt.subplot(1, 2, 1)\r\n",
        "plt.plot(epochs, loss, label = \"Training Loss\")\r\n",
        "plt.plot(epochs, val_loss, label = \"Validation Loss\")\r\n",
        "plt.xlabel(\"Epochs\")\r\n",
        "plt.ylabel(\"Loss\")\r\n",
        "plt.legend()\r\n",
        "\r\n",
        "plt.subplot(1, 2, 2)\r\n",
        "plt.plot(epochs, accuracy, label = \"Training Accuracy\")\r\n",
        "plt.plot(epochs, val_accuracy, label = \"Validation Accuracy\")\r\n",
        "plt.xlabel(\"Epochs\")\r\n",
        "plt.ylabel(\"Accuracy\")\r\n",
        "plt.legend()\r\n",
        "\r\n",
        "plt.show()"
      ],
      "execution_count": 21,
      "outputs": [
        {
          "output_type": "display_data",
          "data": {
            "image/png": "[encoded data removed]",
            "text/plain": [
              "<Figure size 1440x360 with 2 Axes>"
            ]
          },
          "metadata": {
            "tags": [],
            "needs_background": "light"
          }
        }
      ]
    },
    {
      "cell_type": "markdown",
      "metadata": {
        "id": "snOg6MV55WFw"
      },
      "source": [
        "## Make Predictions"
      ]
    },
    {
      "cell_type": "code",
      "metadata": {
        "id": "wcscht2fhpxZ"
      },
      "source": [
        "def prediction(sentence, class_names):\r\n",
        "  prediction = vectorizer(np.array([[s] for s in sentence])).numpy()\r\n",
        "  prediction = model.predict(prediction)\r\n",
        "  prediction = np.argmax(prediction, axis = 1).tolist()\r\n",
        "  for i in range(len(prediction)):\r\n",
        "    prediction[i] = class_names[prediction[i]]\r\n",
        "  return prediction"
      ],
      "execution_count": 22,
      "outputs": []
    },
    {
      "cell_type": "code",
      "metadata": {
        "colab": {
          "base_uri": "https://localhost:8080/"
        },
        "id": "lp09nGXNyyyp",
        "outputId": "f5e7ad90-c591-404f-9754-cc213a8a3ae7"
      },
      "source": [
        "Test = ['this is such an amazing movie!',\r\n",
        "        'The movie was meh.',\r\n",
        "        'The movie was okish.',\r\n",
        "        'The movie was terrible...',\r\n",
        "        'Be at the end of your rope',\r\n",
        "        'Pumped up',\r\n",
        "        'Afraid of your own shadow',\r\n",
        "        'Black mood']\r\n",
        "\r\n",
        "prediction = prediction(Test, class_names)\r\n",
        "print(prediction)"
      ],
      "execution_count": 23,
      "outputs": [
        {
          "output_type": "stream",
          "text": [
            "['joy', 'neutral', 'neutral', 'fear', 'neutral', 'neutral', 'fear', 'sadness']\n"
          ],
          "name": "stdout"
        }
      ]
    }
  ]
}